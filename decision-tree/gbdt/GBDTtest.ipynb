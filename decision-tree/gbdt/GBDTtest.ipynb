{
 "cells": [
  {
   "cell_type": "code",
   "execution_count": null,
   "metadata": {
    "collapsed": true,
    "pycharm": {
     "is_executing": true
    }
   },
   "outputs": [],
   "source": [
    "import numpy as np\n",
    "import matplotlib.pyplot as plt\n",
    "\n",
    "from sklearn import datasets\n",
    "from sklearn import ensemble\n",
    "from sklearn.utils import shuffle\n",
    "from sklearn.metrics import mean_squared_error"
   ]
  },
  {
   "cell_type": "markdown",
   "metadata": {},
   "source": [
    "Dictionary-like object（继承于字典 Dict）, the interesting attributes are:\n",
    "\n",
    "‘data’, the data to learn,\n",
    "‘target’, the classification labels,\n",
    "‘target_names’, the meaning of the labels,\n",
    "‘feature_names’（不是所有的类都有，load_digits() 就没有）, the meaning of the features, and\n",
    "‘DESCR’, the full description of the dataset."
   ]
  },
  {
   "cell_type": "code",
   "execution_count": 29,
   "metadata": {
    "collapsed": false
   },
   "outputs": [
    {
     "name": "stdout",
     "output_type": "stream",
     "text": [
      "['CRIM' 'ZN' 'INDUS' 'CHAS' 'NOX' 'RM' 'AGE' 'DIS' 'RAD' 'TAX' 'PTRATIO'\n",
      " 'B' 'LSTAT']\n"
     ]
    }
   ],
   "source": [
    "boston = datasets.load_boston()\n",
    "import pandas as pd\n",
    "df = pd.DataFrame(boston.data)\n",
    "target = pd.DataFrame(boston.target)\n",
    "print(boston.feature_names)\n",
    "#0.00632,18.0,2.31,0.0,0.538,6.575,65.2,4.09,1.0,296.0,15.3,396.9,4.980.00632,18.0,2.31,0.0,0.538,6.575,65.2,4.09,1.0,296.0,15.3,396.9,4.98"
   ]
  },
  {
   "cell_type": "code",
   "execution_count": 23,
   "metadata": {
    "collapsed": true
   },
   "outputs": [],
   "source": [
    "target.to_csv('boston.target')"
   ]
  },
  {
   "cell_type": "code",
   "execution_count": 8,
   "metadata": {
    "collapsed": false
   },
   "outputs": [
    {
     "name": "stdout",
     "output_type": "stream",
     "text": [
      "MSE: 6.8016\n"
     ]
    },
    {
     "data": {
      "image/png": "[encoded data removed]",
      "text/plain": [
       "<matplotlib.figure.Figure at 0x8f7aeb8>"
      ]
     },
     "metadata": {},
     "output_type": "display_data"
    }
   ],
   "source": [
    "X, y = shuffle(boston.data, boston.target, random_state=13)\n",
    "X = X.astype(np.float32)\n",
    "offset = int(X.shape[0] * 0.9)\n",
    "X_train, y_train = X[:offset], y[:offset]\n",
    "X_test, y_test = X[offset:], y[offset:]\n",
    "\n",
    "params = {'n_estimators': 500, 'max_depth': 4, 'min_samples_split': 2,\n",
    "          'learning_rate': 0.01, 'loss': 'ls'}\n",
    "clf = ensemble.GradientBoostingRegressor(**params)\n",
    "\n",
    "clf.fit(X_train, y_train) #训练\n",
    "mse = mean_squared_error(y_test, clf.predict(X_test)) #预测并且计算MSE\n",
    "#print 2.7和3.0版本有区别\n",
    "print(\"MSE: %.4f\" %(mse))\n",
    "\n",
    "# compute test set deviance\n",
    "test_score = np.zeros((params['n_estimators'],), dtype=np.float64) #矩阵转化\n",
    "\n",
    "for i, y_pred in enumerate(clf.staged_predict(X_test)):\n",
    "    test_score[i] = clf.loss_(y_test, y_pred)\n",
    "\n",
    "plt.figure(figsize=(12, 6))\n",
    "plt.subplot(1, 2, 1)\n",
    "plt.title('Deviance')\n",
    "plt.plot(np.arange(params['n_estimators']) + 1, clf.train_score_, 'b-', label='Training Set Deviance')\n",
    "plt.plot(np.arange(params['n_estimators']) + 1, test_score, 'r-', label='Test Set Deviance')\n",
    "plt.legend(loc='upper right')\n",
    "plt.xlabel('Boosting Iterations')\n",
    "plt.ylabel('Deviance')\n",
    "\n",
    "#Plot feature importance\n",
    "feature_importance = clf.feature_importances_\n",
    "# make importances relative to max importance\n",
    "feature_importance = 100.0 * (feature_importance / feature_importance.max())\n",
    "sorted_idx = np.argsort(feature_importance)\n",
    "pos = np.arange(sorted_idx.shape[0]) + .5\n",
    "plt.subplot(1, 2, 2)\n",
    "plt.barh(pos, feature_importance[sorted_idx], align='center')\n",
    "plt.yticks(pos, boston.feature_names[sorted_idx])\n",
    "plt.xlabel('Relative Importance')\n",
    "plt.title('Variable Importance')\n",
    "plt.show()"
   ]
  },
  {
   "cell_type": "markdown",
   "metadata": {},
   "source": [
    "- CRIM     per capita crime rate by town \n",
    "- ZN       proportion of residential land zoned for lots over 25,000 sq.ft. \n",
    "- INDUS    proportion of non-retail business acres per town \n",
    "- CHAS     Charles River dummy variable (= 1 if tract bounds river; 0 otherwise) \n",
    "- NOX      nitric oxides concentration (parts per 10 million) \n",
    "- RM       average number of rooms per dwelling \n",
    "- AGE      proportion of owner-occupied units built prior to 1940 \n",
    "- DIS      weighted distances to five Boston employment centres \n",
    "- RAD      index of accessibility to radial highways \n",
    "- TAX      full-value property-tax rate per $10,000 \n",
    "- PTRATIO  pupil-teacher ratio by town \n",
    "- B        1000(Bk - 0.63)^2 where Bk is the proportion of blacks by town \n",
    "- LSTAT    % lower status of the population \n",
    "- MEDV     Median value of owner-occupied homes in $1000's"
   ]
  },
  {
   "cell_type": "markdown",
   "metadata": {},
   "source": [
    "http://blog.csdn.net/everlasting_188/article/details/60870653"
   ]
  },
  {
   "cell_type": "markdown",
   "metadata": {},
   "source": [
    "'CRIM'\t'ZN'\t'INDUS'\t'CHAS'\t'NOX'\t'RM'\t'AGE'\t'DIS'\t'RAD'\t'TAX'\t'PTRATIO'\t'B'\t'LSTAT'\n",
    "0.00632\t18\t2.31\t0\t0.538\t6.575\t65.2\t4.09\t1\t296\t15.3\t396.9\t4.98\n",
    "\t\t\t\t\t\t\t\t\t\t\t\t\n",
    "CRIM     per capita crime rate by town \t\t\t\t\t\t\t\t\t\t\t\t\n",
    "ZN       proportion of residential land zoned for lots over 25,000 sq.ft. \t\t\t\t\t\t\t\t\t\t\t\t\n",
    "INDUS    proportion of non-retail business acres per town \t\t\t\t\t\t\t\t\t\t\t\t\n",
    "CHAS     Charles River dummy variable (= 1 if tract bounds river; 0 otherwise) \t\t\t\t\t\t\t\t\t\t\t\t\n",
    "NOX      nitric oxides concentration (parts per 10 million) \t\t\t\t\t\t\t\t\t\t\t\t\n",
    "RM       average number of rooms per dwelling \t\t\t\t\t\t\t\t\t\t\t\t\n",
    "AGE      proportion of owner-occupied units built prior to 1940 \t\t\t\t\t\t\t\t\t\t\t\t\n",
    "DIS      weighted distances to five Boston employment centres \t\t\t\t\t\t\t\t\t\t\t\t\n",
    "RAD      index of accessibility to radial highways \t\t\t\t\t\t\t\t\t\t\t\t\n",
    "TAX      full-value property-tax rate per $10,000 \t\t\t\t\t\t\t\t\t\t\t\t\n",
    "PTRATIO  pupil-teacher ratio by town \t\t\t\t\t\t\t\t\t\t\t\t\n",
    "B        1000(Bk 0.63)^2 where Bk is the proportion of blacks by town \t\t\t\t\t\t\t\t\t\t\t\t\n",
    "LSTAT    % lower status of the population \t\t\t\t\t\t\t\t\t\t\t\t\n",
    "MEDV     Median value of owner-occupied homes in $1000's\t\t\t\t\t\t\t\t\t\t\t\t\n"
   ]
  }
 ],
 "metadata": {
  "kernelspec": {
   "display_name": "Python 3",
   "language": "python",
   "name": "python3"
  },
  "language_info": {
   "codemirror_mode": {
    "name": "ipython",
    "version": 3
   },
   "file_extension": ".py",
   "mimetype": "text/x-python",
   "name": "python",
   "nbconvert_exporter": "python",
   "pygments_lexer": "ipython3",
   "version": "3.6.0"
  }
 },
 "nbformat": 4,
 "nbformat_minor": 2
}
