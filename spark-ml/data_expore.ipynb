{
 "cells": [
  {
   "cell_type": "code",
   "execution_count": 1,
   "metadata": {
    "collapsed": false,
    "ExecuteTime": {
     "end_time": "2023-12-12T09:31:10.440553Z",
     "start_time": "2023-12-12T09:31:10.054813Z"
    }
   },
   "outputs": [
    {
     "ename": "ModuleNotFoundError",
     "evalue": "No module named 'pyspark'",
     "output_type": "error",
     "traceback": [
      "\u001B[0;31m---------------------------------------------------------------------------\u001B[0m",
      "\u001B[0;31mModuleNotFoundError\u001B[0m                       Traceback (most recent call last)",
      "Cell \u001B[0;32mIn[1], line 1\u001B[0m\n\u001B[0;32m----> 1\u001B[0m \u001B[38;5;28;01mfrom\u001B[39;00m \u001B[38;5;21;01mpyspark\u001B[39;00m \u001B[38;5;28;01mimport\u001B[39;00m SparkConf, SparkContext\n\u001B[1;32m      2\u001B[0m \u001B[38;5;28;01mimport\u001B[39;00m \u001B[38;5;21;01mnumpy\u001B[39;00m \u001B[38;5;28;01mas\u001B[39;00m \u001B[38;5;21;01mnp\u001B[39;00m\n\u001B[1;32m      3\u001B[0m \u001B[38;5;28;01mimport\u001B[39;00m \u001B[38;5;21;01mmatplotlib\u001B[39;00m\u001B[38;5;21;01m.\u001B[39;00m\u001B[38;5;21;01mpyplot\u001B[39;00m \u001B[38;5;28;01mas\u001B[39;00m \u001B[38;5;21;01mplt\u001B[39;00m\n",
      "\u001B[0;31mModuleNotFoundError\u001B[0m: No module named 'pyspark'"
     ]
    }
   ],
   "source": [
    "from pyspark import SparkConf, SparkContext\n",
    "import numpy as np\n",
    "import matplotlib.pyplot as plt\n",
    "%matplotlib inline\n",
    "\n",
    "import sys,os\n",
    "os.environ\n",
    "#os.environ['PYTHONHASHSEED']\n",
    "#os.environ['PYTHONHASHSEED'] = '666'\n",
    "#os.environ['PYTHONHASHSEED']"
   ]
  },
  {
   "cell_type": "code",
   "execution_count": 2,
   "metadata": {
    "collapsed": false
   },
   "outputs": [],
   "source": [
    "conf = sc.getConf()"
   ]
  },
  {
   "cell_type": "code",
   "execution_count": 3,
   "metadata": {
    "collapsed": false
   },
   "outputs": [
    {
     "name": "stdout",
     "output_type": "stream",
     "text": [
      "hive.metastore.warehouse.dir=file:/Users/linjingu/work/machine-learning/spark-ml/spark-warehouse/\n",
      "spark.app.id=app-20170708221913-0000\n",
      "spark.app.name=PySparkShell\n",
      "spark.driver.host=192.168.0.103\n",
      "spark.driver.port=57538\n",
      "spark.executor.id=driver\n",
      "spark.master=spark://air:7077\n",
      "spark.rdd.compress=True\n",
      "spark.serializer.objectStreamReset=100\n",
      "spark.sql.catalogImplementation=hive\n",
      "spark.submit.deployMode=client\n"
     ]
    }
   ],
   "source": [
    "print(conf.toDebugString())"
   ]
  },
  {
   "cell_type": "code",
   "execution_count": 4,
   "metadata": {
    "collapsed": false
   },
   "outputs": [
    {
     "data": {
      "text/plain": [
       "'1|24|M|technician|85711'"
      ]
     },
     "execution_count": 4,
     "metadata": {},
     "output_type": "execute_result"
    }
   ],
   "source": [
    "user_data = sc.textFile(\"hdfs:///data/ml-100k/u.user\") #user id | age | gender | occupation | zip code\n",
    "user_data.first()"
   ]
  },
  {
   "cell_type": "code",
   "execution_count": 5,
   "metadata": {
    "collapsed": false
   },
   "outputs": [],
   "source": [
    "user_fields = user_data.map(lambda line: line.split(\"|\"))\n",
    "#user_fields.collect()"
   ]
  },
  {
   "cell_type": "code",
   "execution_count": 6,
   "metadata": {
    "collapsed": true
   },
   "outputs": [],
   "source": [
    "#探索用户数据"
   ]
  },
  {
   "cell_type": "code",
   "execution_count": 7,
   "metadata": {
    "collapsed": false
   },
   "outputs": [],
   "source": [
    "num_users = user_fields.map(lambda fields: fields[0]).count()\n",
    "#print(num_users)"
   ]
  },
  {
   "cell_type": "code",
   "execution_count": 8,
   "metadata": {
    "collapsed": false
   },
   "outputs": [],
   "source": [
    "num_genders = user_fields.map(lambda fields:fields[2]).distinct().count()\n",
    "#print(num_genders)"
   ]
  },
  {
   "cell_type": "code",
   "execution_count": 9,
   "metadata": {
    "collapsed": false
   },
   "outputs": [],
   "source": [
    "num_occupations = user_fields.map(lambda fields:fields[3]).distinct().count()\n"
   ]
  },
  {
   "cell_type": "code",
   "execution_count": 10,
   "metadata": {
    "collapsed": false
   },
   "outputs": [
    {
     "name": "stdout",
     "output_type": "stream",
     "text": [
      "2 21 795\n"
     ]
    }
   ],
   "source": [
    "num_zipcodes = user_fields.map(lambda fields:fields[4]).distinct().count()\n",
    "#print \"Users: %d, genders: %d, occupations: %d, ZIP codes: %d\" % (num_users, num_genders,num_occupations, num_zipcodes) #python2\n",
    "print(num_genders,num_occupations, num_zipcodes)"
   ]
  },
  {
   "cell_type": "code",
   "execution_count": 11,
   "metadata": {
    "collapsed": true
   },
   "outputs": [],
   "source": [
    "#年龄分布"
   ]
  },
  {
   "cell_type": "code",
   "execution_count": 12,
   "metadata": {
    "collapsed": false
   },
   "outputs": [
    {
     "name": "stdout",
     "output_type": "stream",
     "text": [
      "61 32\n",
      "0.5245901639344263\n"
     ]
    }
   ],
   "source": [
    "ages = user_fields.map(lambda x: int(x[1]))\n",
    "total_size = ages.distinct().count()\n",
    "ages_30_size = ages.filter(lambda x: x == 20).count()\n",
    "print(total_size, ages_30_size)\n",
    "print(ages_30_size / total_size)"
   ]
  },
  {
   "cell_type": "code",
   "execution_count": 13,
   "metadata": {
    "collapsed": false
   },
   "outputs": [
    {
     "data": {
      "image/png": "[encoded data removed]",
      "text/plain": [
       "<matplotlib.figure.Figure at 0x10fbbdcc0>"
      ]
     },
     "metadata": {},
     "output_type": "display_data"
    }
   ],
   "source": [
    "ages = user_fields.map(lambda x: int(x[1])).collect()\n",
    "plt.hist(ages, bins=30, color='lightblue', normed=True)\n",
    "fig = plt.gcf()\n",
    "fig.set_size_inches(16, 10)\n",
    "#plt.show()"
   ]
  },
  {
   "cell_type": "code",
   "execution_count": 14,
   "metadata": {
    "collapsed": false
   },
   "outputs": [],
   "source": [
    "#user_fields.map(lambda fields: (fields[3], 1)).collect()\n",
    "#职业分布"
   ]
  },
  {
   "cell_type": "code",
   "execution_count": 15,
   "metadata": {
    "collapsed": false
   },
   "outputs": [
    {
     "data": {
      "text/plain": [
       "[('other', 105),\n",
       " ('writer', 45),\n",
       " ('executive', 32),\n",
       " ('administrator', 79),\n",
       " ('student', 196),\n",
       " ('lawyer', 12),\n",
       " ('librarian', 51),\n",
       " ('homemaker', 7),\n",
       " ('engineer', 67),\n",
       " ('healthcare', 16),\n",
       " ('salesman', 12),\n",
       " ('technician', 27),\n",
       " ('educator', 95),\n",
       " ('scientist', 31),\n",
       " ('entertainment', 18),\n",
       " ('programmer', 66),\n",
       " ('artist', 28),\n",
       " ('marketing', 26),\n",
       " ('none', 9),\n",
       " ('retired', 14),\n",
       " ('doctor', 7)]"
      ]
     },
     "execution_count": 15,
     "metadata": {},
     "output_type": "execute_result"
    }
   ],
   "source": [
    "user_fields.map(lambda fields: (fields[3], 1)).reduceByKey(lambda x, y: x + y).collect()"
   ]
  },
  {
   "cell_type": "code",
   "execution_count": 16,
   "metadata": {
    "collapsed": false
   },
   "outputs": [],
   "source": [
    "count_by_occupation = user_fields.map(lambda fields: (fields[3], 1)).reduceByKey(lambda x, y: x + y).collect()\n",
    "x_axis1 = np.array([c[0] for c in count_by_occupation])\n",
    "y_axis1 = np.array([c[1] for c in count_by_occupation])"
   ]
  },
  {
   "cell_type": "code",
   "execution_count": 17,
   "metadata": {
    "collapsed": false
   },
   "outputs": [
    {
     "name": "stdout",
     "output_type": "stream",
     "text": [
      "['other' 'writer' 'executive' 'administrator' 'student' 'lawyer'\n",
      " 'librarian' 'homemaker' 'engineer' 'healthcare' 'salesman' 'technician'\n",
      " 'educator' 'scientist' 'entertainment' 'programmer' 'artist' 'marketing'\n",
      " 'none' 'retired' 'doctor']\n",
      "[105  45  32  79 196  12  51   7  67  16  12  27  95  31  18  66  28  26\n",
      "   9  14   7]\n",
      "[20  7 18  5 10 19  9 14 17 11 16 13  2  1  6 15  8  3 12  0  4]\n",
      "['hell9' 'hoeo4' 'jjos6']\n",
      "['jjos6' 'hell9' 'hoeo4']\n"
     ]
    }
   ],
   "source": [
    "print(x_axis1)\n",
    "print(y_axis1)\n",
    "print(np.argsort(y_axis1))\n",
    "\n",
    "x=np.array(['hell9','hoeo4','jjos6'])\n",
    "print(x)\n",
    "y=[2,0,1]\n",
    "x=x[y]\n",
    "print(x)"
   ]
  },
  {
   "cell_type": "code",
   "execution_count": 18,
   "metadata": {
    "collapsed": true
   },
   "outputs": [],
   "source": [
    "x_axis = x_axis1[np.argsort(y_axis1)] #获取y_axis1数组的indices，并排序好输出\n",
    "y_axis = y_axis1[np.argsort(y_axis1)]"
   ]
  },
  {
   "cell_type": "code",
   "execution_count": 19,
   "metadata": {
    "collapsed": false
   },
   "outputs": [
    {
     "name": "stdout",
     "output_type": "stream",
     "text": [
      "[ 0  1  2  3  4  5  6  7  8  9 10 11 12 13 14 15 16 17 18 19 20]\n"
     ]
    }
   ],
   "source": [
    "pos = np.arange(len(x_axis))\n",
    "print(pos)"
   ]
  },
  {
   "cell_type": "code",
   "execution_count": 23,
   "metadata": {
    "collapsed": false
   },
   "outputs": [
    {
     "data": {
      "image/png": "[encoded data removed]",
      "text/plain": [
       "<matplotlib.figure.Figure at 0x10e9df828>"
      ]
     },
     "metadata": {},
     "output_type": "display_data"
    }
   ],
   "source": [
    "pos = np.arange(len(x_axis))\n",
    "width = 1.0\n",
    "ax = plt.axes()\n",
    "ax.set_xticks(pos + (width / 2))\n",
    "ax.set_xticklabels(x_axis)\n",
    "plt.bar(pos, y_axis, width, color='lightblue')\n",
    "plt.xticks(rotation=30)\n",
    "fig = plt.gcf()\n",
    "fig.set_size_inches(16, 10)"
   ]
  },
  {
   "cell_type": "code",
   "execution_count": 25,
   "metadata": {
    "collapsed": false
   },
   "outputs": [
    {
     "name": "stdout",
     "output_type": "stream",
     "text": [
      "Map-reduce approach:\n",
      "{'technician': 27, 'other': 105, 'writer': 45, 'executive': 32, 'administrator': 79, 'student': 196, 'lawyer': 12, 'educator': 95, 'scientist': 31, 'entertainment': 18, 'programmer': 66, 'librarian': 51, 'homemaker': 7, 'artist': 28, 'engineer': 67, 'marketing': 26, 'none': 9, 'healthcare': 16, 'retired': 14, 'salesman': 12, 'doctor': 7}\n",
      "countByValue approach:\n",
      "{'other': 105, 'executive': 32, 'administrator': 79, 'student': 196, 'educator': 95, 'programmer': 66, 'homemaker': 7, 'artist': 28, 'engineer': 67, 'none': 9, 'retired': 14, 'doctor': 7, 'technician': 27, 'writer': 45, 'lawyer': 12, 'scientist': 31, 'entertainment': 18, 'librarian': 51, 'marketing': 26, 'healthcare': 16, 'salesman': 12}\n"
     ]
    }
   ],
   "source": [
    "count_by_occupation2 = user_fields.map(lambda fields: fields[3]).countByValue()\n",
    "print(\"Map-reduce approach:\")\n",
    "print(dict(count_by_occupation2))\n",
    "print(\"countByValue approach:\")\n",
    "print(dict(count_by_occupation))"
   ]
  },
  {
   "cell_type": "code",
   "execution_count": null,
   "metadata": {
    "collapsed": true
   },
   "outputs": [],
   "source": []
  },
  {
   "cell_type": "code",
   "execution_count": null,
   "metadata": {
    "collapsed": true
   },
   "outputs": [],
   "source": []
  },
  {
   "cell_type": "code",
   "execution_count": null,
   "metadata": {
    "collapsed": true
   },
   "outputs": [],
   "source": []
  },
  {
   "cell_type": "code",
   "execution_count": null,
   "metadata": {
    "collapsed": true
   },
   "outputs": [],
   "source": []
  }
 ],
 "metadata": {
  "anaconda-cloud": {},
  "kernelspec": {
   "display_name": "Python 3",
   "language": "python",
   "name": "python3"
  },
  "language_info": {
   "codemirror_mode": {
    "name": "ipython",
    "version": 3
   },
   "file_extension": ".py",
   "mimetype": "text/x-python",
   "name": "python",
   "nbconvert_exporter": "python",
   "pygments_lexer": "ipython3",
   "version": "3.6.0"
  }
 },
 "nbformat": 4,
 "nbformat_minor": 2
}
